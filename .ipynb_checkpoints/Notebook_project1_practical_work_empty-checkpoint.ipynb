{
 "cells": [
  {
   "cell_type": "markdown",
   "metadata": {},
   "source": [
    "# Marketing econometrics\n",
    "## Practical work: build a RFM segmentation\n",
    "### MASTER 2 STATECO - TSE - 2022 - 2023\n",
    "\n",
    "Thibault Poissonnier"
   ]
  },
  {
   "cell_type": "code",
   "execution_count": null,
   "metadata": {},
   "outputs": [],
   "source": [
    "import numpy as np\n",
    "import pandas as pd\n",
    "import seaborn as sns"
   ]
  },
  {
   "cell_type": "code",
   "execution_count": null,
   "metadata": {},
   "outputs": [],
   "source": [
    "pd.set_option('display.max_columns', 100)\n",
    "pd.set_option('display.max_rows', 200)"
   ]
  },
  {
   "cell_type": "markdown",
   "metadata": {},
   "source": [
    "## 1. Load the data"
   ]
  },
  {
   "cell_type": "markdown",
   "metadata": {},
   "source": [
    "Import the 6 csv tables in a Jupyter notebook with Python 3 and look at the first rows of each table."
   ]
  },
  {
   "cell_type": "code",
   "execution_count": null,
   "metadata": {},
   "outputs": [],
   "source": [
    "mypath = \"Data\""
   ]
  },
  {
   "cell_type": "code",
   "execution_count": null,
   "metadata": {},
   "outputs": [],
   "source": [
    "CUSTOMER = pd.read_csv(mypath + \"\\\\CUSTOMER.csv\")\n",
    "CUSTOMER_ADDITIONAL = pd.read_csv(mypath + \"\\\\CUSTOMER_ADDITIONAL.csv\")\n",
    "PRODUCTS = pd.read_csv(mypath + \"\\\\PRODUCTS.csv\")\n",
    "RECEIPTS = pd.read_csv(mypath + \"\\\\RECEIPTS.csv\")\n",
    "REFERENTIAL = pd.read_csv(mypath + \"\\\\REFERENTIAL.csv\")\n",
    "STORE = pd.read_csv(mypath + \"\\\\STORE.csv\")"
   ]
  },
  {
   "cell_type": "code",
   "execution_count": null,
   "metadata": {},
   "outputs": [],
   "source": [
    "CUSTOMER.head()"
   ]
  },
  {
   "cell_type": "code",
   "execution_count": null,
   "metadata": {},
   "outputs": [],
   "source": [
    "CUSTOMER_ADDITIONAL.head()"
   ]
  },
  {
   "cell_type": "code",
   "execution_count": null,
   "metadata": {},
   "outputs": [],
   "source": [
    "PRODUCTS.head()"
   ]
  },
  {
   "cell_type": "code",
   "execution_count": null,
   "metadata": {},
   "outputs": [],
   "source": [
    "RECEIPTS.head()"
   ]
  },
  {
   "cell_type": "code",
   "execution_count": null,
   "metadata": {},
   "outputs": [],
   "source": [
    "REFERENTIAL.head()"
   ]
  },
  {
   "cell_type": "code",
   "execution_count": null,
   "metadata": {},
   "outputs": [],
   "source": [
    "STORE.head()"
   ]
  },
  {
   "cell_type": "markdown",
   "metadata": {},
   "source": [
    "# 2 Selection and merging of the data\n",
    "\n",
    "## 2.1 Build the CUSTOMERS_INFO table containing all the information about a customer\n",
    "\n",
    "### 2.1.1 Join the CUSTOMER’s dimensions (CUSTOMER and CUSTOMER_ADDITIONAL) in a table called CUSTOMER_INFO"
   ]
  },
  {
   "cell_type": "code",
   "execution_count": null,
   "metadata": {},
   "outputs": [],
   "source": [
    "CUSTOMER.columns"
   ]
  },
  {
   "cell_type": "code",
   "execution_count": null,
   "metadata": {},
   "outputs": [],
   "source": [
    "CUSTOMER_ADDITIONAL.columns"
   ]
  },
  {
   "cell_type": "markdown",
   "metadata": {},
   "source": [
    "- Join to CUSTOMERS table"
   ]
  },
  {
   "cell_type": "code",
   "execution_count": null,
   "metadata": {},
   "outputs": [],
   "source": [
    "CUSTOMERS_INFO = CUSTOMER.merge(\n",
    "    ...\n",
    ")"
   ]
  },
  {
   "cell_type": "code",
   "execution_count": null,
   "metadata": {},
   "outputs": [],
   "source": [
    "CUSTOMERS_INFO.head()"
   ]
  },
  {
   "cell_type": "markdown",
   "metadata": {},
   "source": [
    "- Make sure all three tables have same number of rows."
   ]
  },
  {
   "cell_type": "code",
   "execution_count": null,
   "metadata": {},
   "outputs": [],
   "source": [
    "print('CUSTOMER           :', CUSTOMER.shape[0], 'lignes et', CUSTOMER.shape[1], 'colonnes.')\n",
    "print('CUSTOMER_ADDITIONAL:', CUSTOMER_ADDITIONAL.shape[0], 'lignes et', CUSTOMER_ADDITIONAL.shape[1], 'colonnes.')\n",
    "print('CUSTOMERS_INFO     :', CUSTOMERS_INFO.shape[0], 'lignes et', CUSTOMERS_INFO.shape[1], 'colonnes.')"
   ]
  },
  {
   "cell_type": "markdown",
   "metadata": {},
   "source": [
    "The dimensions of the 3 tables are consistent: we have the same number of rows and the final table contains all the selected columns from the 2 tables, minus the column(s) used for merging.\n",
    "\n",
    "- Rename CODE_MAGASIN in MANAGING_STORE"
   ]
  },
  {
   "cell_type": "code",
   "execution_count": null,
   "metadata": {},
   "outputs": [],
   "source": [
    "CUSTOMERS_INFO.rename(...)"
   ]
  },
  {
   "cell_type": "code",
   "execution_count": null,
   "metadata": {},
   "outputs": [],
   "source": [
    "CUSTOMERS_INFO.head()"
   ]
  },
  {
   "cell_type": "markdown",
   "metadata": {},
   "source": [
    "## 2.2 Build the RECEIPTS_INFO table containing all the information about a receipt\n",
    "\n",
    "### 2.2.1 Join the RECEIPTS’s dimensions (STORE, REFERENTIAL, PRODUCTS and RECEIPTS) in a table called RECEIPTS_INFO\n",
    "\n",
    "- Start with the join of RECEIPTS and REFERENTIAL."
   ]
  },
  {
   "cell_type": "code",
   "execution_count": null,
   "metadata": {
    "scrolled": true
   },
   "outputs": [],
   "source": [
    "RECEIPTS_INFO = RECEIPTS.merge(\n",
    "    ...\n",
    ")"
   ]
  },
  {
   "cell_type": "markdown",
   "metadata": {},
   "source": [
    "As the Python error says, merging means columns used need to be in the same Python format. We can see this is not the case:"
   ]
  },
  {
   "cell_type": "code",
   "execution_count": null,
   "metadata": {
    "scrolled": true
   },
   "outputs": [],
   "source": [
    "RECEIPTS.dtypes"
   ]
  },
  {
   "cell_type": "code",
   "execution_count": null,
   "metadata": {},
   "outputs": [],
   "source": [
    "REFERENTIAL.dtypes"
   ]
  },
  {
   "cell_type": "markdown",
   "metadata": {},
   "source": [
    "We decide to convert the type of `EAN`."
   ]
  },
  {
   "cell_type": "code",
   "execution_count": null,
   "metadata": {},
   "outputs": [],
   "source": [
    "RECEIPTS['EAN'] = ..."
   ]
  },
  {
   "cell_type": "markdown",
   "metadata": {},
   "source": [
    "Create RECEIPTS_INFO merging tables RECEIPTS and REFERENTIAL:"
   ]
  },
  {
   "cell_type": "code",
   "execution_count": null,
   "metadata": {},
   "outputs": [],
   "source": [
    "RECEIPTS_INFO = RECEIPTS.merge(\n",
    "    ...\n",
    ")"
   ]
  },
  {
   "cell_type": "code",
   "execution_count": null,
   "metadata": {},
   "outputs": [],
   "source": [
    "print('RECEIPTS     :', RECEIPTS.shape[0], 'lignes et', RECEIPTS.shape[1], 'colonnes.')\n",
    "print('REFERENTIAL  :', REFERENTIAL.shape[0], 'lignes et', REFERENTIAL.shape[1], 'colonnes.')\n",
    "print('RECEIPTS_INFO:', RECEIPTS_INFO.shape[0], 'lignes et', RECEIPTS_INFO.shape[1], 'colonnes.')"
   ]
  },
  {
   "cell_type": "markdown",
   "metadata": {},
   "source": [
    "The dimensions of the 3 tables are consistent: we have the same number of rows in the left and final table, and the final table contains all the columns of the two initial tables.\n",
    "\n",
    "- Now the join of PRODUCTS with the table created above. \n",
    "\n",
    "Keep only Ligne and Famille from PRODUCTS (and obviously the column needed for the merge). Merge this DataFrame with recently created RECEIPTS_INFO."
   ]
  },
  {
   "cell_type": "code",
   "execution_count": null,
   "metadata": {},
   "outputs": [],
   "source": [
    "PRODUCTS.head()"
   ]
  },
  {
   "cell_type": "code",
   "execution_count": null,
   "metadata": {},
   "outputs": [],
   "source": [
    "RECEIPTS_INFO = RECEIPTS_INFO.merge(\n",
    "    ...\n",
    ")"
   ]
  },
  {
   "cell_type": "code",
   "execution_count": null,
   "metadata": {},
   "outputs": [],
   "source": [
    "print('PRODUCTS     :', PRODUCTS.shape[0], 'lignes et', PRODUCTS.shape[1], 'colonnes.')\n",
    "print('RECEIPTS_INFO:', RECEIPTS_INFO.shape[0], 'lignes et', RECEIPTS_INFO.shape[1], 'colonnes.')"
   ]
  },
  {
   "cell_type": "markdown",
   "metadata": {},
   "source": [
    "- Now the join of STORE with the table created above.\n",
    "\n",
    "Keep only REGIONS, CENTRE_VILLE, TYPE_MAGASIN, REGIONS_COMMERCIAL from STORE, and the variable for the merge.\n",
    "\n",
    "Merge this DataFrame with previously created RECEIPTS_INFO."
   ]
  },
  {
   "cell_type": "code",
   "execution_count": null,
   "metadata": {},
   "outputs": [],
   "source": [
    "STORE.columns"
   ]
  },
  {
   "cell_type": "code",
   "execution_count": null,
   "metadata": {},
   "outputs": [],
   "source": [
    "RECEIPTS_INFO = RECEIPTS_INFO.merge(\n",
    "    ...\n",
    ")"
   ]
  },
  {
   "cell_type": "code",
   "execution_count": null,
   "metadata": {},
   "outputs": [],
   "source": [
    "print('STORE        :', STORE.shape[0], 'lignes et', STORE.shape[1], 'colonnes.')\n",
    "print('RECEIPTS_INFO:', RECEIPTS_INFO.shape[0], 'lignes et', RECEIPTS_INFO.shape[1], 'colonnes.')"
   ]
  },
  {
   "cell_type": "markdown",
   "metadata": {},
   "source": [
    "Finally we have \n",
    "\n",
    "- a CUSTOMERS_INFO table with 36157 rows and 10 columns, and \n",
    "- a RECEIPTS_INFO table with 332736 rows and 26 columns."
   ]
  },
  {
   "cell_type": "markdown",
   "metadata": {},
   "source": [
    "# 3 Understanding the data\n",
    "\n",
    "## 3.1 Identifying a visit"
   ]
  },
  {
   "cell_type": "markdown",
   "metadata": {},
   "source": [
    "Select all receipts information for customer 174591."
   ]
  },
  {
   "cell_type": "code",
   "execution_count": null,
   "metadata": {},
   "outputs": [],
   "source": [
    "RECEIPTS_174591 = RECEIPTS_INFO[RECEIPTS_INFO.ID_INDIVIDU == 174591]"
   ]
  },
  {
   "cell_type": "code",
   "execution_count": null,
   "metadata": {},
   "outputs": [],
   "source": [
    "RECEIPTS_174591.sort_values(\"DATE_ACHAT\").head(30)"
   ]
  },
  {
   "cell_type": "markdown",
   "metadata": {},
   "source": [
    "Deduce from the analysis of the customer 174591 and the hypotheses above the columns needed to identify 1 store visit, that means 1 unique purchase receipt.\n",
    "\n",
    "It seems like we need to use the information `NUM_TICKET`. However, looking at the rows of this customer, is it enough? Can we use other variables to make sure we only consider unique visits, ie. unique purchase tickets? \n",
    "\n",
    "_Answer:_ One receipt seems to correspond to one ID_INDIVIDU x CODE_BOUTIQUE x DATE_ACHAT x NUM_TICKET."
   ]
  },
  {
   "cell_type": "markdown",
   "metadata": {},
   "source": [
    "## 3.2 Audit and analysis of the consistency of variables\n",
    "\n",
    "### 3.2.1 Analyze variables in RECEIPTS_INFO\n",
    "\n",
    "We will analyze some columns with some specific questions.\n",
    "\n",
    "There are other columns that we won't analyze now, but that can be mentioned in the oral presentation (not mandatory !)"
   ]
  },
  {
   "cell_type": "markdown",
   "metadata": {},
   "source": [
    "- There are many different ways to analyze a dataset, but we can take a quick glance at the data with the `describe` pandas function:"
   ]
  },
  {
   "cell_type": "code",
   "execution_count": null,
   "metadata": {},
   "outputs": [],
   "source": [
    "RECEIPTS_INFO.describe(include = 'all')"
   ]
  },
  {
   "cell_type": "markdown",
   "metadata": {},
   "source": [
    "- Analyze together `REGIONS` and `REGIONS_COMMERCIAL`. Is there a column that does not provide additional information and can be removed?"
   ]
  },
  {
   "cell_type": "code",
   "execution_count": null,
   "metadata": {},
   "outputs": [],
   "source": [
    "..."
   ]
  },
  {
   "cell_type": "markdown",
   "metadata": {},
   "source": [
    "`REGIONS_COMMERCIAL` is not useful, it can be dropped."
   ]
  },
  {
   "cell_type": "code",
   "execution_count": null,
   "metadata": {},
   "outputs": [],
   "source": [
    "RECEIPTS_INFO = RECEIPTS_INFO.drop(...)"
   ]
  },
  {
   "cell_type": "markdown",
   "metadata": {},
   "source": [
    "- Analyze `CENTRE_VILLE`. Is there a modality that can be modified?\n",
    "\n",
    "`CENTRE_VILLE`: Centre Co should be grouped with Centre Commercial."
   ]
  },
  {
   "cell_type": "code",
   "execution_count": null,
   "metadata": {},
   "outputs": [],
   "source": [
    "RECEIPTS_INFO['CENTRE_VILLE'].value_counts()"
   ]
  },
  {
   "cell_type": "code",
   "execution_count": null,
   "metadata": {},
   "outputs": [],
   "source": [
    "RECEIPTS_INFO['CENTRE_VILLE'] = ..."
   ]
  },
  {
   "cell_type": "markdown",
   "metadata": {},
   "source": [
    "- Analyse together `Ligne` and `Famille` just to get a grasp of the product's hierarchy. There shouldn't be any modification to be done."
   ]
  },
  {
   "cell_type": "code",
   "execution_count": null,
   "metadata": {},
   "outputs": [],
   "source": [
    "..."
   ]
  },
  {
   "cell_type": "markdown",
   "metadata": {},
   "source": [
    "- Analyze `CODE_LIGNE` and `TYPE_LIGNE`. Are these columns useful?"
   ]
  },
  {
   "cell_type": "code",
   "execution_count": null,
   "metadata": {},
   "outputs": [],
   "source": [
    "..."
   ]
  },
  {
   "cell_type": "code",
   "execution_count": null,
   "metadata": {},
   "outputs": [],
   "source": [
    "RECEIPTS_INFO = RECEIPTS_INFO.drop(...)"
   ]
  },
  {
   "cell_type": "markdown",
   "metadata": {},
   "source": [
    "- With some analysis on PRIX_AP_REMISE, REMISE_VALEUR, REMISE (exercise left to the reader!), we suppose that:\n",
    "  - PRIX_AP_REMISE is the price paid after potential discounts,\n",
    "  - REMISE_VALEUR seems more useful than REMISE,\n",
    "  - REMISE_VALEUR is the discount represented as a % (between 0 and 100 with some anomalies).\n",
    "  \n",
    "  Then you should: \n",
    "  - remove column REMISE,\n",
    "  - replace values on REMISE_VALEUR by 100 if values are > 100."
   ]
  },
  {
   "cell_type": "code",
   "execution_count": null,
   "metadata": {},
   "outputs": [],
   "source": [
    "sns.distplot(RECEIPTS_INFO[\"PRIX_AP_REMISE\"])"
   ]
  },
  {
   "cell_type": "code",
   "execution_count": null,
   "metadata": {},
   "outputs": [],
   "source": [
    "sns.distplot(RECEIPTS_INFO[\"QUANTITE\"])"
   ]
  },
  {
   "cell_type": "code",
   "execution_count": null,
   "metadata": {},
   "outputs": [],
   "source": [
    "sns.distplot(RECEIPTS_INFO[\"REMISE_VALEUR\"])"
   ]
  },
  {
   "cell_type": "code",
   "execution_count": null,
   "metadata": {},
   "outputs": [],
   "source": [
    "RECEIPTS_INFO = RECEIPTS_INFO.drop(...)"
   ]
  },
  {
   "cell_type": "code",
   "execution_count": null,
   "metadata": {},
   "outputs": [],
   "source": [
    "RECEIPTS_INFO['REMISE_VALEUR'] = ..."
   ]
  },
  {
   "cell_type": "markdown",
   "metadata": {},
   "source": [
    "- Analyzing data and speaking with the marketing team, you need to create new variables:\n",
    "  - a column called `PLV` (Publicité en Lieu de Vente) identifying purchases where MODELE is equal to PLV.\n",
    "  - a column called `Gift` identifying purchases where MODELE is FAVO or FAVORI, and PRIX_AP_REMISE = 0.\n",
    "  - a column called `Entry-level` identifying entry-level products aimed at acquiring new customers: MODELE is equal to ACCESS."
   ]
  },
  {
   "cell_type": "code",
   "execution_count": null,
   "metadata": {},
   "outputs": [],
   "source": [
    "RECEIPTS_INFO['PLV'] = ..."
   ]
  },
  {
   "cell_type": "code",
   "execution_count": null,
   "metadata": {},
   "outputs": [],
   "source": [
    "RECEIPTS_INFO['Gift'] = ..."
   ]
  },
  {
   "cell_type": "code",
   "execution_count": null,
   "metadata": {},
   "outputs": [],
   "source": [
    "RECEIPTS_INFO['Entry-level'] = ..."
   ]
  },
  {
   "cell_type": "markdown",
   "metadata": {},
   "source": [
    "# 4 Data preparation: cleaning and creation of indicators\n",
    "\n",
    "\n",
    "## 4.1 Data preparation of RECEIPTS_INFO\n",
    "\n",
    "### 4.1.1 Handle DATE_ACHAT\n",
    "\n",
    "- Find columns that should be stored as dates. Convert them to Pandas date type (hint: `pd.to_datetime()` should prove useful),"
   ]
  },
  {
   "cell_type": "code",
   "execution_count": null,
   "metadata": {},
   "outputs": [],
   "source": [
    "RECEIPTS_INFO_OK = RECEIPTS_INFO.copy()"
   ]
  },
  {
   "cell_type": "code",
   "execution_count": null,
   "metadata": {},
   "outputs": [],
   "source": [
    "RECEIPTS_INFO_OK[\"DATE_ACHAT\"] = ..."
   ]
  },
  {
   "cell_type": "markdown",
   "metadata": {},
   "source": [
    "### 4.1.3 Compute Price\n",
    "\n",
    "- Compute the final price of a purchase with `PRIX_AP_REMISE` x `QUANTITE`."
   ]
  },
  {
   "cell_type": "code",
   "execution_count": null,
   "metadata": {},
   "outputs": [],
   "source": [
    "RECEIPTS_INFO_OK[\"PRICE\"] = ..."
   ]
  },
  {
   "cell_type": "code",
   "execution_count": null,
   "metadata": {},
   "outputs": [],
   "source": [
    "RECEIPTS_INFO_OK.head()"
   ]
  },
  {
   "cell_type": "markdown",
   "metadata": {},
   "source": [
    "### 4.1.5 Indicators calculation - scope\n",
    "\n",
    "Filter on the last 12 months available, taking complete months.\n",
    "\n",
    "**VERY IMPORTANT**: we are filtering on RECEIPTS information. All future computations regarding receipts will be performed with this date perimeter!\n",
    "\n",
    "It should result in approximately **89 000 rows**."
   ]
  },
  {
   "cell_type": "code",
   "execution_count": null,
   "metadata": {},
   "outputs": [],
   "source": [
    "RECEIPTS_INFO_OK[\"DATE_ACHAT\"].min()"
   ]
  },
  {
   "cell_type": "code",
   "execution_count": null,
   "metadata": {},
   "outputs": [],
   "source": [
    "RECEIPTS_INFO_OK[\"DATE_ACHAT\"].max()"
   ]
  },
  {
   "cell_type": "code",
   "execution_count": null,
   "metadata": {},
   "outputs": [],
   "source": [
    "min_date_RFM = ...\n",
    "max_date_RFM = ..."
   ]
  },
  {
   "cell_type": "code",
   "execution_count": null,
   "metadata": {},
   "outputs": [],
   "source": [
    "RECEIPTS_INFO_RFM = ..."
   ]
  },
  {
   "cell_type": "code",
   "execution_count": null,
   "metadata": {},
   "outputs": [],
   "source": [
    "RECEIPTS_INFO_RFM.DATE_ACHAT.min()"
   ]
  },
  {
   "cell_type": "code",
   "execution_count": null,
   "metadata": {},
   "outputs": [],
   "source": [
    "RECEIPTS_INFO_RFM.DATE_ACHAT.max()"
   ]
  },
  {
   "cell_type": "code",
   "execution_count": null,
   "metadata": {},
   "outputs": [],
   "source": [
    "RECEIPTS_INFO_RFM.shape"
   ]
  },
  {
   "cell_type": "markdown",
   "metadata": {},
   "source": [
    "### 4.1.6 Compute Monetary Value per visit and the Average Price\n",
    "\n",
    "For each visit (see 3.1 to properly identify 1 visit), compute:\n",
    "- the number of products sold (you can call it `NB_PRODUCTS`)\n",
    "- the monetary value (sum of the products prices ; you can call it `VISIT_VALUE`).\n",
    "\n",
    "Average price per visit should be easy to compute (called `AVG_PRICE`).\n",
    "\n",
    "---\n",
    "\n",
    "You can check your result with these checks:\n",
    "- For date 2015-12-01, code boutique 62, individu 53156, ticket 22, value should be 18, 1 product, average price 18.\n",
    "- For date 2015-12-01, code boutique 62, individu 123195, ticket 13, value should be 107, 6 products, average price 17,83."
   ]
  },
  {
   "cell_type": "code",
   "execution_count": null,
   "metadata": {},
   "outputs": [],
   "source": [
    "VISIT_VALUE = (\n",
    "    RECEIPTS_INFO_RFM\n",
    "    .groupby(...)\n",
    "    .aggregate(...)\n",
    "    .reset_index()\n",
    ")"
   ]
  },
  {
   "cell_type": "code",
   "execution_count": null,
   "metadata": {},
   "outputs": [],
   "source": [
    "VISIT_VALUE.columns = [\n",
    "    'DATE_ACHAT', 'CODE_BOUTIQUE', 'ID_INDIVIDU',\n",
    "    'NUM_TICKET', 'VISIT_VALUE', 'NB_PRODUCTS'\n",
    "]"
   ]
  },
  {
   "cell_type": "code",
   "execution_count": null,
   "metadata": {},
   "outputs": [],
   "source": [
    "VISIT_VALUE[\"AVG_PRICE\"] = ..."
   ]
  },
  {
   "cell_type": "code",
   "execution_count": null,
   "metadata": {},
   "outputs": [],
   "source": [
    "VISIT_VALUE.head()"
   ]
  },
  {
   "cell_type": "markdown",
   "metadata": {},
   "source": [
    "### 4.1.7 Calculate FREQUENCY per individual (from the precedent table per visit)\n",
    "\n",
    "For each individual, compute:\n",
    "\n",
    "- `NB_VISITS`: the number of visits,\n",
    "- `CUMUL_VALUE`: sum of monetary value per visit (using `VISIT_VALUE` computed before),\n",
    "- `AVG_VISIT_VALUE`: average of monetary value per visit (using `VISIT_VALUE` computed before),\n",
    "- `AVG_NB_PRODUCTS_VISIT`: average of quantities (using `NB_PRODUCTS` computed before)."
   ]
  },
  {
   "cell_type": "code",
   "execution_count": null,
   "metadata": {},
   "outputs": [],
   "source": [
    "agg_dict = {\n",
    "    ...\n",
    "}\n",
    "\n",
    "FREQUENCY = (\n",
    "    VISIT_VALUE\n",
    "    .groupby(...)\n",
    "    .aggregate(agg_dict, drop_index = True)\n",
    "    .reset_index()\n",
    ")"
   ]
  },
  {
   "cell_type": "code",
   "execution_count": null,
   "metadata": {},
   "outputs": [],
   "source": [
    "FREQUENCY.columns = ['ID_INDIVIDU','NB_VISITS','AVG_VISIT_VALUE','CUMUL_VALUE','AVG_NB_PRODUCTS_VISIT']"
   ]
  },
  {
   "cell_type": "code",
   "execution_count": null,
   "metadata": {},
   "outputs": [],
   "source": [
    "FREQUENCY.head()"
   ]
  },
  {
   "cell_type": "markdown",
   "metadata": {},
   "source": [
    "### 4.1.8 Calculate RECENCY per individual (from the precedent table per visit)\n",
    "\n",
    "First compute last date of purchase for each individual."
   ]
  },
  {
   "cell_type": "code",
   "execution_count": null,
   "metadata": {},
   "outputs": [],
   "source": [
    "RECENCY = (\n",
    "    VISIT_VALUE\n",
    "    .groupby(...)\n",
    "    .aggregate(...)\n",
    "    .reset_index()\n",
    ")"
   ]
  },
  {
   "cell_type": "code",
   "execution_count": null,
   "metadata": {},
   "outputs": [],
   "source": [
    "RECENCY.head()"
   ]
  },
  {
   "cell_type": "markdown",
   "metadata": {},
   "source": [
    "Recency can now be computed:"
   ]
  },
  {
   "cell_type": "code",
   "execution_count": null,
   "metadata": {},
   "outputs": [],
   "source": [
    "RECENCY[\"RECENCY\"] = ..."
   ]
  },
  {
   "cell_type": "code",
   "execution_count": null,
   "metadata": {},
   "outputs": [],
   "source": [
    "RECENCY.head()"
   ]
  },
  {
   "cell_type": "markdown",
   "metadata": {},
   "source": [
    "### 4.1.9 Diversification in terms of stores, lines and families\n",
    "\n",
    "You can now count distinct number of stores, lines and families for each individual."
   ]
  },
  {
   "cell_type": "code",
   "execution_count": null,
   "metadata": {},
   "outputs": [],
   "source": [
    "DIVERS_STORE = (\n",
    "    RECEIPTS_INFO_RFM\n",
    "    ...\n",
    ")\n",
    "\n",
    "DIVERS_STORE.columns = ['ID_INDIVIDU', 'NB_STORES']"
   ]
  },
  {
   "cell_type": "code",
   "execution_count": null,
   "metadata": {},
   "outputs": [],
   "source": [
    "DIVERS_LINE = (\n",
    "    RECEIPTS_INFO_RFM\n",
    "    ...\n",
    ")\n",
    "DIVERS_LINE.columns = ['ID_INDIVIDU', 'NB_LINES']"
   ]
  },
  {
   "cell_type": "code",
   "execution_count": null,
   "metadata": {},
   "outputs": [],
   "source": [
    "DIVERS_FAM = (\n",
    "    RECEIPTS_INFO_RFM\n",
    "    ...\n",
    ")\n",
    "\n",
    "DIVERS_FAM.columns = ['ID_INDIVIDU', 'NB_FAMILIES']\n",
    "DIVERS_FAM.head()"
   ]
  },
  {
   "cell_type": "markdown",
   "metadata": {},
   "source": [
    "### 4.1.10 Number of gifts"
   ]
  },
  {
   "cell_type": "code",
   "execution_count": null,
   "metadata": {},
   "outputs": [],
   "source": [
    "NB_GIFTS = (\n",
    "    RECEIPTS_INFO_RFM\n",
    "    ...\n",
    ")\n",
    "\n",
    "NB_GIFTS.columns = ['ID_INDIVIDU', 'NB_GIFTS']\n",
    "NB_GIFTS.head()"
   ]
  },
  {
   "cell_type": "markdown",
   "metadata": {},
   "source": [
    "### 4.1.11 Share of visits in the managing store\n",
    "\n",
    "Join VISIT_VALUE (only keeping ID INDIVIDU and CODE BOUTIQUE) and customers information (only keeping ID INDIVIDU and MANAGING STORE)."
   ]
  },
  {
   "cell_type": "code",
   "execution_count": null,
   "metadata": {},
   "outputs": [],
   "source": [
    "MANAGING_STORE = ..."
   ]
  },
  {
   "cell_type": "markdown",
   "metadata": {},
   "source": [
    "Create a column to see if the store of purchase is the same as the managing store."
   ]
  },
  {
   "cell_type": "code",
   "execution_count": null,
   "metadata": {},
   "outputs": [],
   "source": [
    "MANAGING_STORE[\"TOP_MANAGING_STORE\"] = ..."
   ]
  },
  {
   "cell_type": "markdown",
   "metadata": {},
   "source": [
    "Then compute the share of visits made in the managing store:"
   ]
  },
  {
   "cell_type": "code",
   "execution_count": null,
   "metadata": {},
   "outputs": [],
   "source": [
    "SHARE_MANAGING_STORE = ..."
   ]
  },
  {
   "cell_type": "markdown",
   "metadata": {},
   "source": [
    "## 4.2 Data preparation of CUSTOMERS_INFO\n",
    "\n",
    "### 4.2.1 Age"
   ]
  },
  {
   "cell_type": "markdown",
   "metadata": {},
   "source": [
    "- Find a way to compute the age of the customer:\n",
    "  - First, find the date column that will help you compute the age (you don't need to compute the age with month or day precision, year is enough).\n",
    "  - Is the age computed in relation to the current year? Or is another year better suited? Think about the range of dates we are currently using."
   ]
  },
  {
   "cell_type": "code",
   "execution_count": null,
   "metadata": {},
   "outputs": [],
   "source": [
    "CUSTOMERS_INFO_OK = CUSTOMERS_INFO.copy()\n",
    "CUSTOMERS_INFO_OK.head()"
   ]
  },
  {
   "cell_type": "code",
   "execution_count": null,
   "metadata": {},
   "outputs": [],
   "source": [
    "..."
   ]
  },
  {
   "cell_type": "markdown",
   "metadata": {},
   "source": [
    "With year, month and day, you can now create a date in the right pandas type:"
   ]
  },
  {
   "cell_type": "code",
   "execution_count": null,
   "metadata": {},
   "outputs": [],
   "source": [
    "CUSTOMERS_INFO_OK[\"BIRTH_DATE\"] = ..."
   ]
  },
  {
   "cell_type": "markdown",
   "metadata": {},
   "source": [
    "Create the age column:"
   ]
  },
  {
   "cell_type": "code",
   "execution_count": null,
   "metadata": {},
   "outputs": [],
   "source": [
    "CUSTOMERS_INFO_OK[\"AGE\"] = ..."
   ]
  },
  {
   "cell_type": "markdown",
   "metadata": {},
   "source": [
    "At this time, the distribution of the age of customers reveals outliers: customers with negative age (or lower that 18 years old): create missing values when age < 15 or age > 90:"
   ]
  },
  {
   "cell_type": "code",
   "execution_count": null,
   "metadata": {},
   "outputs": [],
   "source": [
    "CUSTOMERS_INFO_OK[\"AGE\"] = ..."
   ]
  },
  {
   "cell_type": "markdown",
   "metadata": {},
   "source": [
    "### 4.2.2 Seniority\n",
    "\n",
    "Convert `DATE_CREATION_CARTE` to the right type:"
   ]
  },
  {
   "cell_type": "code",
   "execution_count": null,
   "metadata": {},
   "outputs": [],
   "source": [
    "CUSTOMERS_INFO_OK[\"DATE_CREATION_CARTE\"] = ..."
   ]
  },
  {
   "cell_type": "markdown",
   "metadata": {},
   "source": [
    "- Compute the seniority of the customer (years after creation of the loyalty card)."
   ]
  },
  {
   "cell_type": "code",
   "execution_count": null,
   "metadata": {},
   "outputs": [],
   "source": [
    "# Seniority in months\n",
    "CUSTOMERS_INFO_OK[\"SENIORITY\"] = ..."
   ]
  },
  {
   "cell_type": "code",
   "execution_count": null,
   "metadata": {},
   "outputs": [],
   "source": [
    "sns.distplot(CUSTOMERS_INFO_OK[\"SENIORITY\"])"
   ]
  },
  {
   "cell_type": "markdown",
   "metadata": {},
   "source": [
    "Are there any outliers?\n",
    "\n",
    "Create missing values when seniority is bigger than 10 years, and clip negative values to 0:"
   ]
  },
  {
   "cell_type": "code",
   "execution_count": null,
   "metadata": {},
   "outputs": [],
   "source": [
    "CUSTOMERS_INFO_OK[\"SENIORITY\"] = ..."
   ]
  },
  {
   "cell_type": "markdown",
   "metadata": {},
   "source": [
    "## 4.3 Gather all features in a MASTER table (at the individual level)\n",
    "\n",
    "### 4.3.1 Joins\n",
    "\n",
    "From table CUSTOMERS_INFO_OK created below, keep `ID_INDIVIDU`, `CIVILITE`, `SEXE`, `PROFESSION`, `CATEGORIE_PROF`, `DATE_CREATION_CARTE`, `MANAGING_STORE`, `AGE`, `SENIORITY`.\n",
    "\n",
    "Join with `SHARE_MANAGING_STORE`, `NB_GIFTS`, `DIVERS_STORE`, `DIVERS_LINE`, `DIVERS_FAM`, `RECENCY`, `FREQUENCY`."
   ]
  },
  {
   "cell_type": "code",
   "execution_count": null,
   "metadata": {},
   "outputs": [],
   "source": [
    "MASTER = CUSTOMERS_INFO_OK\n",
    "    ...\n",
    ".merge(\n",
    "    ...\n",
    ")"
   ]
  },
  {
   "cell_type": "code",
   "execution_count": null,
   "metadata": {},
   "outputs": [],
   "source": [
    "MASTER = MASTER.merge(NB_GIFTS ...)"
   ]
  },
  {
   "cell_type": "code",
   "execution_count": null,
   "metadata": {},
   "outputs": [],
   "source": [
    "MASTER = MASTER.merge(DIVERS_STORE ...)"
   ]
  },
  {
   "cell_type": "code",
   "execution_count": null,
   "metadata": {},
   "outputs": [],
   "source": [
    "MASTER = MASTER.merge(DIVERS_LINE ...)"
   ]
  },
  {
   "cell_type": "code",
   "execution_count": null,
   "metadata": {},
   "outputs": [],
   "source": [
    "MASTER = MASTER.merge(DIVERS_FAM ...)"
   ]
  },
  {
   "cell_type": "code",
   "execution_count": null,
   "metadata": {},
   "outputs": [],
   "source": [
    "MASTER = MASTER.merge(RECENCY ...)"
   ]
  },
  {
   "cell_type": "code",
   "execution_count": null,
   "metadata": {},
   "outputs": [],
   "source": [
    "MASTER = MASTER.merge(FREQUENCY ...)"
   ]
  },
  {
   "cell_type": "markdown",
   "metadata": {},
   "source": [
    "There should be approximately 36 000 rows, with the exact same number of individuals (since we have agregated data at the INDIVIDU level!)"
   ]
  },
  {
   "cell_type": "markdown",
   "metadata": {},
   "source": [
    "### 4.3.2 Individuals without receipts"
   ]
  },
  {
   "cell_type": "code",
   "execution_count": null,
   "metadata": {},
   "outputs": [],
   "source": [
    "MASTER.isnull().sum()"
   ]
  },
  {
   "cell_type": "markdown",
   "metadata": {},
   "source": [
    "A lot of customers have missing values concerning the purchase features. Check that they are indeed not present in the receipts table from the beginning:"
   ]
  },
  {
   "cell_type": "code",
   "execution_count": null,
   "metadata": {},
   "outputs": [],
   "source": [
    "RECEIPTS_INFO[RECEIPTS_INFO.ID_INDIVIDU == 27]"
   ]
  },
  {
   "cell_type": "markdown",
   "metadata": {},
   "source": [
    "Indeed, these customers have no receipts so we are not going to consider them in the RFM segmentation. They can be prospects, inactive customers (last purchase <1 year) or very recent customer (last purchase > 30/11/2016)."
   ]
  },
  {
   "cell_type": "markdown",
   "metadata": {},
   "source": [
    "For the RFM segmentation we exclude inactive customers on the year of study."
   ]
  },
  {
   "cell_type": "code",
   "execution_count": null,
   "metadata": {},
   "outputs": [],
   "source": [
    "MASTER_RFM = MASTER[MASTER.RECENCY.notnull()].copy()"
   ]
  },
  {
   "cell_type": "code",
   "execution_count": null,
   "metadata": {},
   "outputs": [],
   "source": [
    "MASTER_RFM.head()"
   ]
  },
  {
   "cell_type": "code",
   "execution_count": null,
   "metadata": {},
   "outputs": [],
   "source": [
    "len(MASTER_RFM)"
   ]
  },
  {
   "cell_type": "code",
   "execution_count": null,
   "metadata": {},
   "outputs": [],
   "source": [
    "MASTER_RFM.isnull().sum()"
   ]
  },
  {
   "cell_type": "markdown",
   "metadata": {},
   "source": [
    "There should be around 10k INDIVIDU now.\n",
    "\n",
    "---\n",
    "\n",
    "Fill missing values with 0 for NB_GIFTS:"
   ]
  },
  {
   "cell_type": "code",
   "execution_count": null,
   "metadata": {},
   "outputs": [],
   "source": [
    "MASTER_RFM['NB_GIFTS'] = ..."
   ]
  },
  {
   "cell_type": "markdown",
   "metadata": {},
   "source": [
    "# 5 Creation of the \"RFM\" segmentation\n",
    "\n",
    "## 5.1 Distribution of Monetary value\n",
    "\n",
    "The column is `CUMUL_VALUE`.\n",
    "\n",
    "Use `describe` and `distplot`."
   ]
  },
  {
   "cell_type": "code",
   "execution_count": null,
   "metadata": {},
   "outputs": [],
   "source": [
    "MASTER_RFM.CUMUL_VALUE.describe()"
   ]
  },
  {
   "cell_type": "code",
   "execution_count": null,
   "metadata": {},
   "outputs": [],
   "source": [
    "sns.distplot(MASTER_RFM[\"CUMUL_VALUE\"])"
   ]
  },
  {
   "cell_type": "markdown",
   "metadata": {},
   "source": [
    "We have customers with a 0 cumulative value. Let's look at them."
   ]
  },
  {
   "cell_type": "code",
   "execution_count": null,
   "metadata": {},
   "outputs": [],
   "source": [
    "MASTER_RFM[MASTER_RFM.CUMUL_VALUE == 0].head()"
   ]
  },
  {
   "cell_type": "code",
   "execution_count": null,
   "metadata": {},
   "outputs": [],
   "source": [
    "RECEIPTS_INFO_RFM[RECEIPTS_INFO_RFM.ID_INDIVIDU == 6195]"
   ]
  },
  {
   "cell_type": "markdown",
   "metadata": {},
   "source": [
    "This customer came only for products with no value..."
   ]
  },
  {
   "cell_type": "code",
   "execution_count": null,
   "metadata": {},
   "outputs": [],
   "source": [
    "len(MASTER_RFM[MASTER_RFM.CUMUL_VALUE == 0])"
   ]
  },
  {
   "cell_type": "markdown",
   "metadata": {},
   "source": [
    "Few customers are concerned. We drop them of the MASTER_RFM table."
   ]
  },
  {
   "cell_type": "code",
   "execution_count": null,
   "metadata": {},
   "outputs": [],
   "source": [
    "MASTER_RFM = MASTER_RFM[MASTER_RFM.CUMUL_VALUE > 0]"
   ]
  },
  {
   "cell_type": "code",
   "execution_count": null,
   "metadata": {},
   "outputs": [],
   "source": [
    "len(MASTER_RFM)"
   ]
  },
  {
   "cell_type": "markdown",
   "metadata": {},
   "source": [
    "## 5.2 Distribution of Frequency"
   ]
  },
  {
   "cell_type": "code",
   "execution_count": null,
   "metadata": {},
   "outputs": [],
   "source": [
    "MASTER_RFM.NB_VISITS.describe()"
   ]
  },
  {
   "cell_type": "code",
   "execution_count": null,
   "metadata": {},
   "outputs": [],
   "source": [
    "sns.distplot(MASTER_RFM[\"NB_VISITS\"])"
   ]
  },
  {
   "cell_type": "markdown",
   "metadata": {},
   "source": [
    "## 5.3 Distribution of Recency"
   ]
  },
  {
   "cell_type": "code",
   "execution_count": null,
   "metadata": {},
   "outputs": [],
   "source": [
    "MASTER_RFM.RECENCY.describe()"
   ]
  },
  {
   "cell_type": "code",
   "execution_count": null,
   "metadata": {},
   "outputs": [],
   "source": [
    "sns.distplot(MASTER_RFM[\"RECENCY\"])"
   ]
  },
  {
   "cell_type": "markdown",
   "metadata": {},
   "source": [
    "Recall that we only look at 1 year of purchase history for customers. If the seniority is less than 1 year, what kind of customers are they? We want to create a variable to identify them:"
   ]
  },
  {
   "cell_type": "code",
   "execution_count": null,
   "metadata": {},
   "outputs": [],
   "source": [
    "# New customer if seniority <= 1 year\n",
    "MASTER_RFM[\"TOP_NEW\"] = ..."
   ]
  },
  {
   "cell_type": "code",
   "execution_count": null,
   "metadata": {},
   "outputs": [],
   "source": [
    "# Number of new customers\n",
    "sum(MASTER_RFM[\"TOP_NEW\"])"
   ]
  },
  {
   "cell_type": "markdown",
   "metadata": {},
   "source": [
    "## 5.4 Determine thresholds in order to split them in low/medium/high groups"
   ]
  },
  {
   "cell_type": "code",
   "execution_count": null,
   "metadata": {},
   "outputs": [],
   "source": [
    "..."
   ]
  },
  {
   "cell_type": "markdown",
   "metadata": {},
   "source": [
    "So we can propose the following thresholds:\n",
    "\n",
    "MONETARY VALUE:\n",
    "- low if less than 100€\n",
    "- medium if between 100€ and 250€\n",
    "- high if more than 250€\n",
    "\n",
    "FREQUENCY:\n",
    "- low if 1 visit on the period\n",
    "- medium if 2 visits on the period\n",
    "- high if 3 visits or more on the period\n",
    "\n",
    "RECENCY: \n",
    "- low if last purchase more than 7 months ago (210 days)\n",
    "- medium if last purchase between 4 and 7 months ago\n",
    "- high if last purchase less than 4 months ago (120 days)"
   ]
  },
  {
   "cell_type": "code",
   "execution_count": null,
   "metadata": {},
   "outputs": [],
   "source": [
    "min_recency = ...\n",
    "max_recency = ...\n",
    "min_frequency = ...\n",
    "max_frequency = ...\n",
    "min_money = ...\n",
    "max_money = ..."
   ]
  },
  {
   "cell_type": "markdown",
   "metadata": {},
   "source": [
    "Create new / high / med / low levels for the 3 indicators:"
   ]
  },
  {
   "cell_type": "code",
   "execution_count": null,
   "metadata": {},
   "outputs": [],
   "source": [
    "MASTER_RFM[\"RECENCY_level\"] = np.where(\n",
    "    MASTER_RFM.TOP_NEW == ..., \n",
    "    ...,\n",
    "    np.where(\n",
    "        MASTER_RFM.RECENCY > ...,\n",
    "        ...,\n",
    "        np.where(\n",
    "            MASTER_RFM.RECENCY <= ...,\n",
    "            ...,\n",
    "            ...\n",
    "        )\n",
    "    )\n",
    ")"
   ]
  },
  {
   "cell_type": "code",
   "execution_count": null,
   "metadata": {},
   "outputs": [],
   "source": [
    "MASTER_RFM[\"FREQUENCY_level\"] = ..."
   ]
  },
  {
   "cell_type": "code",
   "execution_count": null,
   "metadata": {},
   "outputs": [],
   "source": [
    "MASTER_RFM[\"MONEY_level\"] = ..."
   ]
  },
  {
   "cell_type": "markdown",
   "metadata": {},
   "source": [
    "Check that the Low/Medium/High classes are quite well balanced. If not, try to change the thresholds."
   ]
  },
  {
   "cell_type": "code",
   "execution_count": null,
   "metadata": {},
   "outputs": [],
   "source": [
    "MASTER_RFM[[\"RECENCY_level\", \"ID_INDIVIDU\"]].groupby(\"RECENCY_level\").count()"
   ]
  },
  {
   "cell_type": "code",
   "execution_count": null,
   "metadata": {},
   "outputs": [],
   "source": [
    "MASTER_RFM[[\"FREQUENCY_level\", \"ID_INDIVIDU\"]].groupby(\"FREQUENCY_level\").count()"
   ]
  },
  {
   "cell_type": "code",
   "execution_count": null,
   "metadata": {},
   "outputs": [],
   "source": [
    "MASTER_RFM[[\"MONEY_level\", \"ID_INDIVIDU\"]].groupby(\"MONEY_level\").count()"
   ]
  },
  {
   "cell_type": "markdown",
   "metadata": {},
   "source": [
    "Create FM segmentation based on splits seen in class:\n",
    "\n",
    "You can start by creating boolean vectors based on recency / frequency / money."
   ]
  },
  {
   "cell_type": "code",
   "execution_count": null,
   "metadata": {},
   "outputs": [],
   "source": [
    "cond_LowFM = (\n",
    "    (MASTER_RFM.FREQUENCY_level == 'Low') \n",
    "    & (MASTER_RFM.MONEY_level != 'High')\n",
    ") | (\n",
    "    (MASTER_RFM.FREQUENCY_level == 'Medium') \n",
    "    & (MASTER_RFM.MONEY_level == 'Low')\n",
    ")\n",
    "\n",
    "cond_MediumFM = (\n",
    "    (MASTER_RFM.FREQUENCY_level == 'High') & (MASTER_RFM.MONEY_level == 'Low')\n",
    "    | (MASTER_RFM.FREQUENCY_level == 'Medium') & (MASTER_RFM.MONEY_level == 'Medium')\n",
    "    | (MASTER_RFM.FREQUENCY_level == 'Low') & (MASTER_RFM.MONEY_level == 'High')\n",
    ")\n",
    "\n",
    "cond_HighFM = (\n",
    "    (MASTER_RFM.FREQUENCY_level == 'High')\n",
    "    & (MASTER_RFM.MONEY_level != 'Low')\n",
    ") | (\n",
    "    (MASTER_RFM.FREQUENCY_level == 'Medium')\n",
    "    & (MASTER_RFM.MONEY_level == 'High')\n",
    ")"
   ]
  },
  {
   "cell_type": "markdown",
   "metadata": {},
   "source": [
    "Create FM segmentation:"
   ]
  },
  {
   "cell_type": "code",
   "execution_count": null,
   "metadata": {},
   "outputs": [],
   "source": [
    "MASTER_RFM[\"FM_SEG\"] = np.where(\n",
    "    MASTER_RFM.TOP_NEW,\n",
    "    ...,\n",
    "    np.where(\n",
    "        cond_LowFM,\n",
    "        ...,\n",
    "        np.where(\n",
    "            cond_HighFM,\n",
    "            ...,\n",
    "            ...)\n",
    "    )\n",
    ")"
   ]
  },
  {
   "cell_type": "code",
   "execution_count": null,
   "metadata": {},
   "outputs": [],
   "source": [
    "MASTER_RFM[[\"FM_SEG\", \"ID_INDIVIDU\"]].groupby(\"FM_SEG\").count()"
   ]
  },
  {
   "cell_type": "code",
   "execution_count": null,
   "metadata": {},
   "outputs": [],
   "source": [
    "MASTER_RFM[[\"FM_SEG\", \"ID_INDIVIDU\"]].count()"
   ]
  },
  {
   "cell_type": "markdown",
   "metadata": {},
   "source": [
    "Create RFM segmentation based on splits seen in class:\n",
    "\n",
    "You can start by creating boolean vectors based on recency / frequency / money."
   ]
  },
  {
   "cell_type": "code",
   "execution_count": null,
   "metadata": {},
   "outputs": [],
   "source": [
    "cond_Top = (\n",
    "    (MASTER_RFM.RECENCY_level == ...) \n",
    "    & (\n",
    "        (MASTER_RFM.FM_SEG == ...) | (MASTER_RFM.FM_SEG == ...)\n",
    "    )\n",
    ")\n",
    "\n",
    "cond_Good = (\n",
    "    (MASTER_RFM.RECENCY_level == ...) \n",
    "    & (\n",
    "        (MASTER_RFM.FM_SEG == ...) | (MASTER_RFM.FM_SEG == ...)\n",
    "    )\n",
    ")\n",
    "\n",
    "cond_Decel = (\n",
    "    (MASTER_RFM.RECENCY_level == ...) \n",
    "    & (\n",
    "        (MASTER_RFM.FM_SEG == ...) | (MASTER_RFM.FM_SEG == ...)\n",
    "    )\n",
    ")\n",
    "\n",
    "cond_Small = (\n",
    "    (MASTER_RFM.FM_SEG == ...) \n",
    "    & (\n",
    "        (MASTER_RFM.RECENCY_level == ...) | (MASTER_RFM.RECENCY_level == ...)\n",
    "    )\n",
    ")\n",
    "\n",
    "cond_Weak = (\n",
    "    (MASTER_RFM.FM_SEG == ...)\n",
    "    & (MASTER_RFM.RECENCY_level == ...)\n",
    ")"
   ]
  },
  {
   "cell_type": "code",
   "execution_count": null,
   "metadata": {},
   "outputs": [],
   "source": [
    "MASTER_RFM[\"RFM_SEG\"] = np.where(\n",
    "    cond_Top,\n",
    "    'Top',\n",
    "    np.where(\n",
    "        cond_Good,\n",
    "        'Good',\n",
    "        np.where(\n",
    "            cond_Decel,\n",
    "            'Decel',\n",
    "            np.where(\n",
    "                cond_Small,\n",
    "                'Small',\n",
    "                np.where(\n",
    "                    cond_Weak,\n",
    "                    'Weak',\n",
    "                    MASTER_RFM.FM_SEG)\n",
    "            )\n",
    "        )\n",
    "    )\n",
    ")"
   ]
  },
  {
   "cell_type": "code",
   "execution_count": null,
   "metadata": {},
   "outputs": [],
   "source": [
    "MASTER_RFM[[\"RFM_SEG\", \"ID_INDIVIDU\"]].groupby(\"RFM_SEG\").count()"
   ]
  },
  {
   "cell_type": "markdown",
   "metadata": {},
   "source": [
    "# 6 Main insights"
   ]
  },
  {
   "cell_type": "markdown",
   "metadata": {},
   "source": [
    "To do for the project"
   ]
  },
  {
   "cell_type": "code",
   "execution_count": null,
   "metadata": {},
   "outputs": [],
   "source": []
  },
  {
   "cell_type": "markdown",
   "metadata": {},
   "source": [
    "# 7 Migration across time"
   ]
  },
  {
   "cell_type": "markdown",
   "metadata": {},
   "source": [
    "To do for the project"
   ]
  },
  {
   "cell_type": "code",
   "execution_count": null,
   "metadata": {},
   "outputs": [],
   "source": []
  }
 ],
 "metadata": {
  "kernelspec": {
   "display_name": "Python 3",
   "language": "python",
   "name": "python3"
  },
  "language_info": {
   "codemirror_mode": {
    "name": "ipython",
    "version": 3
   },
   "file_extension": ".py",
   "mimetype": "text/x-python",
   "name": "python",
   "nbconvert_exporter": "python",
   "pygments_lexer": "ipython3",
   "version": "3.8.8"
  }
 },
 "nbformat": 4,
 "nbformat_minor": 4
}
